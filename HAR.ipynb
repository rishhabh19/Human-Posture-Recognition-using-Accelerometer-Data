{
  "nbformat": 4,
  "nbformat_minor": 0,
  "metadata": {
    "kernelspec": {
      "display_name": "Python 3",
      "language": "python",
      "name": "python3"
    },
    "language_info": {
      "codemirror_mode": {
        "name": "ipython",
        "version": 3
      },
      "file_extension": ".py",
      "mimetype": "text/x-python",
      "name": "python",
      "nbconvert_exporter": "python",
      "pygments_lexer": "ipython3",
      "version": "3.7.6"
    },
    "colab": {
      "name": "project maamla.ipynb",
      "provenance": []
    }
  },
  "cells": [
    {
      "cell_type": "code",
      "metadata": {
        "id": "Q8yRZ2jdvcGk"
      },
      "source": [
        "import numpy as np \n",
        "import pandas as pd \n",
        "import seaborn as sns\n",
        "sns.set(style=\"white\") #white background style for seaborn plots\n",
        "sns.set(style=\"whitegrid\", color_codes=True)\n",
        "from sklearn.preprocessing import StandardScaler\n",
        "import seaborn as sns\n",
        "import matplotlib.pyplot as plt\n",
        "from sklearn import linear_model, decomposition, datasets"
      ],
      "execution_count": 2,
      "outputs": []
    },
    {
      "cell_type": "code",
      "metadata": {
        "colab": {
          "base_uri": "https://localhost:8080/"
        },
        "id": "oMlK5WLevvvv",
        "outputId": "9e85c3a1-bb2b-49f5-a0a0-e82c072535e4"
      },
      "source": [
        "from google.colab import drive\n",
        "drive.mount('/content/drive')"
      ],
      "execution_count": 4,
      "outputs": [
        {
          "output_type": "stream",
          "text": [
            "Drive already mounted at /content/drive; to attempt to forcibly remount, call drive.mount(\"/content/drive\", force_remount=True).\n"
          ],
          "name": "stdout"
        }
      ]
    },
    {
      "cell_type": "code",
      "metadata": {
        "colab": {
          "base_uri": "https://localhost:8080/",
          "height": 464
        },
        "id": "sWXkoOnovcGm",
        "outputId": "afd37ced-ce57-4d70-889b-016454e40953"
      },
      "source": [
        "train = pd.read_csv(\"/content/drive/My Drive/Copy of HAR dataset.csv\", delimiter=';')\n",
        "train"
      ],
      "execution_count": 5,
      "outputs": [
        {
          "output_type": "stream",
          "text": [
            "/usr/local/lib/python3.6/dist-packages/IPython/core/interactiveshell.py:2718: DtypeWarning: Columns (17) have mixed types.Specify dtype option on import or set low_memory=False.\n",
            "  interactivity=interactivity, compiler=compiler, result=result)\n"
          ],
          "name": "stderr"
        },
        {
          "output_type": "execute_result",
          "data": {
            "text/html": [
              "<div>\n",
              "<style scoped>\n",
              "    .dataframe tbody tr th:only-of-type {\n",
              "        vertical-align: middle;\n",
              "    }\n",
              "\n",
              "    .dataframe tbody tr th {\n",
              "        vertical-align: top;\n",
              "    }\n",
              "\n",
              "    .dataframe thead th {\n",
              "        text-align: right;\n",
              "    }\n",
              "</style>\n",
              "<table border=\"1\" class=\"dataframe\">\n",
              "  <thead>\n",
              "    <tr style=\"text-align: right;\">\n",
              "      <th></th>\n",
              "      <th>user</th>\n",
              "      <th>gender</th>\n",
              "      <th>age</th>\n",
              "      <th>how_tall_in_meters</th>\n",
              "      <th>weight</th>\n",
              "      <th>body_mass_index</th>\n",
              "      <th>x1</th>\n",
              "      <th>y1</th>\n",
              "      <th>z1</th>\n",
              "      <th>x2</th>\n",
              "      <th>y2</th>\n",
              "      <th>z2</th>\n",
              "      <th>x3</th>\n",
              "      <th>y3</th>\n",
              "      <th>z3</th>\n",
              "      <th>x4</th>\n",
              "      <th>y4</th>\n",
              "      <th>z4</th>\n",
              "      <th>class</th>\n",
              "    </tr>\n",
              "  </thead>\n",
              "  <tbody>\n",
              "    <tr>\n",
              "      <th>0</th>\n",
              "      <td>debora</td>\n",
              "      <td>Woman</td>\n",
              "      <td>46</td>\n",
              "      <td>1,62</td>\n",
              "      <td>75</td>\n",
              "      <td>28,6</td>\n",
              "      <td>-3</td>\n",
              "      <td>92</td>\n",
              "      <td>-63</td>\n",
              "      <td>-23</td>\n",
              "      <td>18</td>\n",
              "      <td>-19</td>\n",
              "      <td>5</td>\n",
              "      <td>104</td>\n",
              "      <td>-92</td>\n",
              "      <td>-150</td>\n",
              "      <td>-103</td>\n",
              "      <td>-147</td>\n",
              "      <td>sitting</td>\n",
              "    </tr>\n",
              "    <tr>\n",
              "      <th>1</th>\n",
              "      <td>debora</td>\n",
              "      <td>Woman</td>\n",
              "      <td>46</td>\n",
              "      <td>1,62</td>\n",
              "      <td>75</td>\n",
              "      <td>28,6</td>\n",
              "      <td>-3</td>\n",
              "      <td>94</td>\n",
              "      <td>-64</td>\n",
              "      <td>-21</td>\n",
              "      <td>18</td>\n",
              "      <td>-18</td>\n",
              "      <td>-14</td>\n",
              "      <td>104</td>\n",
              "      <td>-90</td>\n",
              "      <td>-149</td>\n",
              "      <td>-104</td>\n",
              "      <td>-145</td>\n",
              "      <td>sitting</td>\n",
              "    </tr>\n",
              "    <tr>\n",
              "      <th>2</th>\n",
              "      <td>debora</td>\n",
              "      <td>Woman</td>\n",
              "      <td>46</td>\n",
              "      <td>1,62</td>\n",
              "      <td>75</td>\n",
              "      <td>28,6</td>\n",
              "      <td>-1</td>\n",
              "      <td>97</td>\n",
              "      <td>-61</td>\n",
              "      <td>-12</td>\n",
              "      <td>20</td>\n",
              "      <td>-15</td>\n",
              "      <td>-13</td>\n",
              "      <td>104</td>\n",
              "      <td>-90</td>\n",
              "      <td>-151</td>\n",
              "      <td>-104</td>\n",
              "      <td>-144</td>\n",
              "      <td>sitting</td>\n",
              "    </tr>\n",
              "    <tr>\n",
              "      <th>3</th>\n",
              "      <td>debora</td>\n",
              "      <td>Woman</td>\n",
              "      <td>46</td>\n",
              "      <td>1,62</td>\n",
              "      <td>75</td>\n",
              "      <td>28,6</td>\n",
              "      <td>-2</td>\n",
              "      <td>96</td>\n",
              "      <td>-57</td>\n",
              "      <td>-15</td>\n",
              "      <td>21</td>\n",
              "      <td>-16</td>\n",
              "      <td>-13</td>\n",
              "      <td>104</td>\n",
              "      <td>-89</td>\n",
              "      <td>-153</td>\n",
              "      <td>-103</td>\n",
              "      <td>-142</td>\n",
              "      <td>sitting</td>\n",
              "    </tr>\n",
              "    <tr>\n",
              "      <th>4</th>\n",
              "      <td>debora</td>\n",
              "      <td>Woman</td>\n",
              "      <td>46</td>\n",
              "      <td>1,62</td>\n",
              "      <td>75</td>\n",
              "      <td>28,6</td>\n",
              "      <td>-1</td>\n",
              "      <td>96</td>\n",
              "      <td>-61</td>\n",
              "      <td>-13</td>\n",
              "      <td>20</td>\n",
              "      <td>-15</td>\n",
              "      <td>-13</td>\n",
              "      <td>104</td>\n",
              "      <td>-89</td>\n",
              "      <td>-153</td>\n",
              "      <td>-104</td>\n",
              "      <td>-143</td>\n",
              "      <td>sitting</td>\n",
              "    </tr>\n",
              "    <tr>\n",
              "      <th>...</th>\n",
              "      <td>...</td>\n",
              "      <td>...</td>\n",
              "      <td>...</td>\n",
              "      <td>...</td>\n",
              "      <td>...</td>\n",
              "      <td>...</td>\n",
              "      <td>...</td>\n",
              "      <td>...</td>\n",
              "      <td>...</td>\n",
              "      <td>...</td>\n",
              "      <td>...</td>\n",
              "      <td>...</td>\n",
              "      <td>...</td>\n",
              "      <td>...</td>\n",
              "      <td>...</td>\n",
              "      <td>...</td>\n",
              "      <td>...</td>\n",
              "      <td>...</td>\n",
              "      <td>...</td>\n",
              "    </tr>\n",
              "    <tr>\n",
              "      <th>165628</th>\n",
              "      <td>jose_carlos</td>\n",
              "      <td>Man</td>\n",
              "      <td>75</td>\n",
              "      <td>1,67</td>\n",
              "      <td>67</td>\n",
              "      <td>24,0</td>\n",
              "      <td>2</td>\n",
              "      <td>93</td>\n",
              "      <td>-148</td>\n",
              "      <td>-8</td>\n",
              "      <td>88</td>\n",
              "      <td>-100</td>\n",
              "      <td>15</td>\n",
              "      <td>120</td>\n",
              "      <td>-100</td>\n",
              "      <td>-189</td>\n",
              "      <td>-77</td>\n",
              "      <td>-160</td>\n",
              "      <td>walking</td>\n",
              "    </tr>\n",
              "    <tr>\n",
              "      <th>165629</th>\n",
              "      <td>jose_carlos</td>\n",
              "      <td>Man</td>\n",
              "      <td>75</td>\n",
              "      <td>1,67</td>\n",
              "      <td>67</td>\n",
              "      <td>24,0</td>\n",
              "      <td>-1</td>\n",
              "      <td>94</td>\n",
              "      <td>-147</td>\n",
              "      <td>-17</td>\n",
              "      <td>87</td>\n",
              "      <td>-99</td>\n",
              "      <td>17</td>\n",
              "      <td>121</td>\n",
              "      <td>-99</td>\n",
              "      <td>-190</td>\n",
              "      <td>-78</td>\n",
              "      <td>-158</td>\n",
              "      <td>walking</td>\n",
              "    </tr>\n",
              "    <tr>\n",
              "      <th>165630</th>\n",
              "      <td>jose_carlos</td>\n",
              "      <td>Man</td>\n",
              "      <td>75</td>\n",
              "      <td>1,67</td>\n",
              "      <td>67</td>\n",
              "      <td>24,0</td>\n",
              "      <td>-10</td>\n",
              "      <td>93</td>\n",
              "      <td>-143</td>\n",
              "      <td>-19</td>\n",
              "      <td>86</td>\n",
              "      <td>-104</td>\n",
              "      <td>0</td>\n",
              "      <td>114</td>\n",
              "      <td>-101</td>\n",
              "      <td>-185</td>\n",
              "      <td>-80</td>\n",
              "      <td>-153</td>\n",
              "      <td>walking</td>\n",
              "    </tr>\n",
              "    <tr>\n",
              "      <th>165631</th>\n",
              "      <td>jose_carlos</td>\n",
              "      <td>Man</td>\n",
              "      <td>75</td>\n",
              "      <td>1,67</td>\n",
              "      <td>67</td>\n",
              "      <td>24,0</td>\n",
              "      <td>-15</td>\n",
              "      <td>86</td>\n",
              "      <td>-152</td>\n",
              "      <td>-19</td>\n",
              "      <td>88</td>\n",
              "      <td>-117</td>\n",
              "      <td>-44</td>\n",
              "      <td>155</td>\n",
              "      <td>-25</td>\n",
              "      <td>-185</td>\n",
              "      <td>-84</td>\n",
              "      <td>-156</td>\n",
              "      <td>walking</td>\n",
              "    </tr>\n",
              "    <tr>\n",
              "      <th>165632</th>\n",
              "      <td>jose_carlos</td>\n",
              "      <td>Man</td>\n",
              "      <td>75</td>\n",
              "      <td>1,67</td>\n",
              "      <td>67</td>\n",
              "      <td>24,0</td>\n",
              "      <td>-14</td>\n",
              "      <td>86</td>\n",
              "      <td>-144</td>\n",
              "      <td>-18</td>\n",
              "      <td>85</td>\n",
              "      <td>-107</td>\n",
              "      <td>-3</td>\n",
              "      <td>114</td>\n",
              "      <td>-128</td>\n",
              "      <td>-210</td>\n",
              "      <td>-88</td>\n",
              "      <td>-148</td>\n",
              "      <td>walking</td>\n",
              "    </tr>\n",
              "  </tbody>\n",
              "</table>\n",
              "<p>165633 rows × 19 columns</p>\n",
              "</div>"
            ],
            "text/plain": [
              "               user gender  age how_tall_in_meters  ...   x4   y4    z4    class\n",
              "0            debora  Woman   46               1,62  ... -150 -103  -147  sitting\n",
              "1            debora  Woman   46               1,62  ... -149 -104  -145  sitting\n",
              "2            debora  Woman   46               1,62  ... -151 -104  -144  sitting\n",
              "3            debora  Woman   46               1,62  ... -153 -103  -142  sitting\n",
              "4            debora  Woman   46               1,62  ... -153 -104  -143  sitting\n",
              "...             ...    ...  ...                ...  ...  ...  ...   ...      ...\n",
              "165628  jose_carlos    Man   75               1,67  ... -189  -77  -160  walking\n",
              "165629  jose_carlos    Man   75               1,67  ... -190  -78  -158  walking\n",
              "165630  jose_carlos    Man   75               1,67  ... -185  -80  -153  walking\n",
              "165631  jose_carlos    Man   75               1,67  ... -185  -84  -156  walking\n",
              "165632  jose_carlos    Man   75               1,67  ... -210  -88  -148  walking\n",
              "\n",
              "[165633 rows x 19 columns]"
            ]
          },
          "metadata": {
            "tags": []
          },
          "execution_count": 5
        }
      ]
    },
    {
      "cell_type": "code",
      "metadata": {
        "id": "MYQKMyVTvcGn"
      },
      "source": [
        "train['gender'] = train['gender'].apply(lambda x: 0 if x=='Woman' else 1)\n",
        "train.head()\n",
        "from sklearn.utils import shuffle\n",
        "train = shuffle(train)"
      ],
      "execution_count": 6,
      "outputs": []
    },
    {
      "cell_type": "code",
      "metadata": {
        "colab": {
          "base_uri": "https://localhost:8080/"
        },
        "id": "-WfWX-I9vcGn",
        "outputId": "44c5950a-e17a-411a-80a0-0208ba39d9e1"
      },
      "source": [
        "x = train.iloc[:, 6:-1]\n",
        "y = train.iloc[:, -1]\n",
        "y"
      ],
      "execution_count": 7,
      "outputs": [
        {
          "output_type": "execute_result",
          "data": {
            "text/plain": [
              "69490     standing\n",
              "98637     standing\n",
              "6269       sitting\n",
              "102194    standing\n",
              "146797     walking\n",
              "            ...   \n",
              "34532      sitting\n",
              "7273       sitting\n",
              "92970     standing\n",
              "157558     walking\n",
              "151474     walking\n",
              "Name: class, Length: 165633, dtype: object"
            ]
          },
          "metadata": {
            "tags": []
          },
          "execution_count": 7
        }
      ]
    },
    {
      "cell_type": "code",
      "metadata": {
        "id": "um6HRXJPvcGo"
      },
      "source": [
        "index = x[x.z4 == '-14420-11-2011 04:50:23.713'].index\n",
        "x.drop(index, inplace=True)\n",
        "y.drop(index, inplace=True)\n"
      ],
      "execution_count": 8,
      "outputs": []
    },
    {
      "cell_type": "code",
      "metadata": {
        "id": "ovSeuYvqvcGo"
      },
      "source": [
        "# for i in range(len(y)):\n",
        "#     if(y[i] == \"sitting\"): \n",
        "#         y[i] = 1\n",
        "#     if(y[i] == \"sittingdown\"): \n",
        "#         y[i] = 2\n",
        "#     if(y[i] == \"standing\"): \n",
        "#         y[i] = 3\n",
        "#     if(y[i] == \"standingup\"): \n",
        "#         y[i] = 4\n",
        "#     if(y[i] == \"walking\"): \n",
        "#         y[i] = 5"
      ],
      "execution_count": 9,
      "outputs": []
    },
    {
      "cell_type": "code",
      "metadata": {
        "colab": {
          "base_uri": "https://localhost:8080/"
        },
        "id": "jQMQdym2vcGp",
        "outputId": "df89096a-52c1-426a-e875-4cd1714340d1"
      },
      "source": [
        "from sklearn.model_selection import train_test_split\n",
        "xtrain, xtest, ytrain, ytest = train_test_split(x, y)\n",
        "print(xtrain.shape)\n",
        "print(xtest.shape)\n",
        "print(ytrain.shape)\n",
        "print(ytest.shape)"
      ],
      "execution_count": 10,
      "outputs": [
        {
          "output_type": "stream",
          "text": [
            "(124224, 12)\n",
            "(41408, 12)\n",
            "(124224,)\n",
            "(41408,)\n"
          ],
          "name": "stdout"
        }
      ]
    },
    {
      "cell_type": "code",
      "metadata": {
        "colab": {
          "base_uri": "https://localhost:8080/"
        },
        "id": "wM_5679lvcGp",
        "outputId": "21435b9f-95a1-475e-b83a-fe19eca0cf2b"
      },
      "source": [
        "from sklearn.linear_model import SGDClassifier\n",
        "sgd = SGDClassifier()\n",
        "sgd.fit(xtrain, ytrain ) "
      ],
      "execution_count": 21,
      "outputs": [
        {
          "output_type": "execute_result",
          "data": {
            "text/plain": [
              "SGDClassifier(alpha=0.0001, average=False, class_weight=None,\n",
              "              early_stopping=False, epsilon=0.1, eta0=0.0, fit_intercept=True,\n",
              "              l1_ratio=0.15, learning_rate='optimal', loss='hinge',\n",
              "              max_iter=1000, n_iter_no_change=5, n_jobs=None, penalty='l2',\n",
              "              power_t=0.5, random_state=None, shuffle=True, tol=0.001,\n",
              "              validation_fraction=0.1, verbose=0, warm_start=False)"
            ]
          },
          "metadata": {
            "tags": []
          },
          "execution_count": 21
        }
      ]
    },
    {
      "cell_type": "code",
      "metadata": {
        "colab": {
          "base_uri": "https://localhost:8080/"
        },
        "id": "l7TvwJ1GvcGp",
        "outputId": "a77cdf73-1bb5-4871-db7e-27ddb3ddbc0b"
      },
      "source": [
        "sgd.score(xtest, ytest)"
      ],
      "execution_count": 22,
      "outputs": [
        {
          "output_type": "execute_result",
          "data": {
            "text/plain": [
              "0.8146010432766615"
            ]
          },
          "metadata": {
            "tags": []
          },
          "execution_count": 22
        }
      ]
    },
    {
      "cell_type": "code",
      "metadata": {
        "colab": {
          "base_uri": "https://localhost:8080/"
        },
        "id": "vI_7hY6wvcGq",
        "outputId": "950c6e0e-7de8-4f53-9fe8-f92a70db6978"
      },
      "source": [
        "sgd.score(xtrain, ytrain)"
      ],
      "execution_count": 23,
      "outputs": [
        {
          "output_type": "execute_result",
          "data": {
            "text/plain": [
              "0.8181752318392581"
            ]
          },
          "metadata": {
            "tags": []
          },
          "execution_count": 23
        }
      ]
    },
    {
      "cell_type": "code",
      "metadata": {
        "colab": {
          "base_uri": "https://localhost:8080/"
        },
        "id": "yx0O3BwqvcGq",
        "outputId": "eadd1338-87ea-450e-f784-b9de7667efc9"
      },
      "source": [
        "n = len(x)\n",
        "j = 0\n",
        "x1 = x.to_numpy()\n",
        "y1 = y.to_numpy()\n",
        "for i in range(3):\n",
        "    xtest = x1[j:j+n//3]\n",
        "    ytest = y1[j:j+n//3]\n",
        "    xtrain = np.concatenate( (x1[:j],x1[j+n//3:]))\n",
        "    ytrain = np.concatenate( (y1[:j],y1[j+n//3:]))\n",
        "    sgd.fit(xtrain[:1000], ytrain[:1000])\n",
        "    j+=n//3\n",
        "    print(sgd.score(xtest, ytest))\n"
      ],
      "execution_count": null,
      "outputs": [
        {
          "output_type": "stream",
          "text": [
            "0.6973917768520196\n",
            "0.5730845861257019\n",
            "0.7781199058141641\n"
          ],
          "name": "stdout"
        }
      ]
    },
    {
      "cell_type": "code",
      "metadata": {
        "colab": {
          "base_uri": "https://localhost:8080/",
          "height": 280
        },
        "id": "YP3YSPaOvcGr",
        "outputId": "d2f6224c-6317-46f8-9a6e-83ceab936d66"
      },
      "source": [
        "from sklearn.metrics import plot_confusion_matrix\n",
        "import pickle\n",
        "plot_confusion_matrix(sgd, xtest, ytest,  normalize = 'pred')\n",
        "sns.set(font_scale=0.75)\n",
        "filename = 'weights/SGD.sav'\n",
        "pickle.dump(sgd, open(filename, 'wb'))\n",
        "plt.savefig(\"SGD.jpeg\")\n",
        "plt.show()"
      ],
      "execution_count": 86,
      "outputs": [
        {
          "output_type": "display_data",
          "data": {
            "image/png": "[encoded data removed]",
            "text/plain": [
              "<Figure size 432x288 with 2 Axes>"
            ]
          },
          "metadata": {
            "tags": []
          }
        }
      ]
    },
    {
      "cell_type": "code",
      "metadata": {
        "id": "SlVAXRQhvcGr"
      },
      "source": [
        "from sklearn.discriminant_analysis import QuadraticDiscriminantAnalysis\n",
        "qd = QuadraticDiscriminantAnalysis()"
      ],
      "execution_count": 27,
      "outputs": []
    },
    {
      "cell_type": "code",
      "metadata": {
        "colab": {
          "base_uri": "https://localhost:8080/"
        },
        "id": "n0Q5UE5TvcGs",
        "outputId": "276b133a-19ae-4443-f861-6c6bc21ff655"
      },
      "source": [
        "qd.fit(xtrain, ytrain)"
      ],
      "execution_count": 28,
      "outputs": [
        {
          "output_type": "execute_result",
          "data": {
            "text/plain": [
              "QuadraticDiscriminantAnalysis(priors=None, reg_param=0.0,\n",
              "                              store_covariance=False, tol=0.0001)"
            ]
          },
          "metadata": {
            "tags": []
          },
          "execution_count": 28
        }
      ]
    },
    {
      "cell_type": "code",
      "metadata": {
        "colab": {
          "base_uri": "https://localhost:8080/"
        },
        "id": "Q4Xy15nbvcGs",
        "outputId": "60b37553-2555-4c96-838d-50216a16e04a"
      },
      "source": [
        "qd.score(xtest, ytest)"
      ],
      "execution_count": 29,
      "outputs": [
        {
          "output_type": "execute_result",
          "data": {
            "text/plain": [
              "0.9022169629057187"
            ]
          },
          "metadata": {
            "tags": []
          },
          "execution_count": 29
        }
      ]
    },
    {
      "cell_type": "code",
      "metadata": {
        "colab": {
          "base_uri": "https://localhost:8080/"
        },
        "id": "JyX2JrJJvcGs",
        "outputId": "b9ac0e6f-f5b9-4e54-fe69-94f876bb68fe"
      },
      "source": [
        "qd.score(xtrain, ytrain)"
      ],
      "execution_count": 30,
      "outputs": [
        {
          "output_type": "execute_result",
          "data": {
            "text/plain": [
              "0.9054852524471921"
            ]
          },
          "metadata": {
            "tags": []
          },
          "execution_count": 30
        }
      ]
    },
    {
      "cell_type": "code",
      "metadata": {
        "scrolled": true,
        "colab": {
          "base_uri": "https://localhost:8080/"
        },
        "id": "I73gFmAOvcGt",
        "outputId": "2e92528d-a93f-48cc-9f54-cc73d1ddbe23"
      },
      "source": [
        "n = len(x)\n",
        "j = 0\n",
        "x1 = x.to_numpy()\n",
        "y1 = y.to_numpy()\n",
        "for i in range(3):\n",
        "    xtest = x1[j:j+n//3]\n",
        "    ytest = y1[j:j+n//3]\n",
        "    xtrain = np.concatenate( (x1[:j],x1[j+n//3:]))\n",
        "    ytrain = np.concatenate( (y1[:j],y1[j+n//3:]))\n",
        "    qd.fit(xtrain[:1000], ytrain[:1000])\n",
        "    j+=n//3\n",
        "    print(qd.score(xtest, ytest))\n"
      ],
      "execution_count": 31,
      "outputs": [
        {
          "output_type": "stream",
          "text": [
            "0.9052888969389603\n",
            "0.9024814345227314\n",
            "0.9061401919942039\n"
          ],
          "name": "stdout"
        }
      ]
    },
    {
      "cell_type": "code",
      "metadata": {
        "colab": {
          "base_uri": "https://localhost:8080/",
          "height": 280
        },
        "id": "x-U8MnC9vcGt",
        "outputId": "2934d8c2-fa7c-4486-c0d3-c8a90c975666"
      },
      "source": [
        "plot_confusion_matrix(qd, xtest, ytest,  normalize = 'pred')\n",
        "sns.set(font_scale=0.75)\n",
        "plt.savefig(\"GDA.jpeg\")\n",
        "filename = 'weights/GDA.sav'\n",
        "pickle.dump(sgd, open(filename, 'wb'))\n",
        "plt.show()"
      ],
      "execution_count": 87,
      "outputs": [
        {
          "output_type": "display_data",
          "data": {
            "image/png": "[encoded data removed]",
            "text/plain": [
              "<Figure size 432x288 with 2 Axes>"
            ]
          },
          "metadata": {
            "tags": []
          }
        }
      ]
    },
    {
      "cell_type": "code",
      "metadata": {
        "id": "SYA2EbX_vcGt"
      },
      "source": [
        ""
      ],
      "execution_count": null,
      "outputs": []
    },
    {
      "cell_type": "code",
      "metadata": {
        "colab": {
          "base_uri": "https://localhost:8080/"
        },
        "id": "TFNTr24yvcGu",
        "outputId": "c9e9bd00-a743-4bc8-ae9e-0d671887c20e"
      },
      "source": [
        "from sklearn.linear_model import LogisticRegression\n",
        "lr = LogisticRegression(max_iter = 500)\n",
        "lr.fit(xtrain, ytrain)"
      ],
      "execution_count": 89,
      "outputs": [
        {
          "output_type": "stream",
          "text": [
            "/usr/local/lib/python3.6/dist-packages/sklearn/linear_model/_logistic.py:940: ConvergenceWarning: lbfgs failed to converge (status=1):\n",
            "STOP: TOTAL NO. of ITERATIONS REACHED LIMIT.\n",
            "\n",
            "Increase the number of iterations (max_iter) or scale the data as shown in:\n",
            "    https://scikit-learn.org/stable/modules/preprocessing.html\n",
            "Please also refer to the documentation for alternative solver options:\n",
            "    https://scikit-learn.org/stable/modules/linear_model.html#logistic-regression\n",
            "  extra_warning_msg=_LOGISTIC_SOLVER_CONVERGENCE_MSG)\n"
          ],
          "name": "stderr"
        },
        {
          "output_type": "execute_result",
          "data": {
            "text/plain": [
              "LogisticRegression(C=1.0, class_weight=None, dual=False, fit_intercept=True,\n",
              "                   intercept_scaling=1, l1_ratio=None, max_iter=500,\n",
              "                   multi_class='auto', n_jobs=None, penalty='l2',\n",
              "                   random_state=None, solver='lbfgs', tol=0.0001, verbose=0,\n",
              "                   warm_start=False)"
            ]
          },
          "metadata": {
            "tags": []
          },
          "execution_count": 89
        }
      ]
    },
    {
      "cell_type": "code",
      "metadata": {
        "colab": {
          "base_uri": "https://localhost:8080/"
        },
        "id": "iCBTZuS3vcGu",
        "outputId": "f634681e-9997-44b3-8cf4-90815c7cb05d"
      },
      "source": [
        "lr.score(xtest,ytest)"
      ],
      "execution_count": 90,
      "outputs": [
        {
          "output_type": "execute_result",
          "data": {
            "text/plain": [
              "0.7970476362977721"
            ]
          },
          "metadata": {
            "tags": []
          },
          "execution_count": 90
        }
      ]
    },
    {
      "cell_type": "code",
      "metadata": {
        "colab": {
          "base_uri": "https://localhost:8080/"
        },
        "id": "xgUikL_yvcGu",
        "outputId": "181bae6b-ed6c-4516-aacf-6d382ea17805"
      },
      "source": [
        "lr.score(xtrain, ytrain)"
      ],
      "execution_count": 91,
      "outputs": [
        {
          "output_type": "execute_result",
          "data": {
            "text/plain": [
              "0.7973048848961257"
            ]
          },
          "metadata": {
            "tags": []
          },
          "execution_count": 91
        }
      ]
    },
    {
      "cell_type": "code",
      "metadata": {
        "colab": {
          "base_uri": "https://localhost:8080/"
        },
        "id": "zVTMBq5OvcGv",
        "outputId": "638d7e6c-0276-4ca8-a50a-327c47e12086"
      },
      "source": [
        "ypred = lr.predict(xtest)\n",
        "ypred"
      ],
      "execution_count": 92,
      "outputs": [
        {
          "output_type": "execute_result",
          "data": {
            "text/plain": [
              "array(['walking', 'standing', 'sitting', ..., 'sitting', 'sitting',\n",
              "       'standing'], dtype=object)"
            ]
          },
          "metadata": {
            "tags": []
          },
          "execution_count": 92
        }
      ]
    },
    {
      "cell_type": "code",
      "metadata": {
        "colab": {
          "base_uri": "https://localhost:8080/"
        },
        "id": "Y1QkMlU7vcGv",
        "outputId": "505811f6-e387-4581-a533-cd0c1191b47a"
      },
      "source": [
        "from sklearn.metrics import confusion_matrix\n",
        "confusion_matrix(ytest, ypred, labels = ['sitting' ,'sittingdown' ,'standing' ,'standingup' ,'walking'])"
      ],
      "execution_count": 93,
      "outputs": [
        {
          "output_type": "execute_result",
          "data": {
            "text/plain": [
              "array([[16810,    59,     0,    49,     7],\n",
              "       [  267,  2130,   848,   432,   303],\n",
              "       [    0,    44, 13572,    26,  2252],\n",
              "       [  195,   539,   758,  2318,   299],\n",
              "       [   13,   406,  4427,   281,  9175]])"
            ]
          },
          "metadata": {
            "tags": []
          },
          "execution_count": 93
        }
      ]
    },
    {
      "cell_type": "code",
      "metadata": {
        "colab": {
          "base_uri": "https://localhost:8080/",
          "height": 280
        },
        "id": "H4lKLDFtvcGv",
        "outputId": "40906e15-8a28-42d6-f397-f6fab4b8df23"
      },
      "source": [
        "from sklearn.metrics import plot_confusion_matrix\n",
        "plot_confusion_matrix(lr, xtest, ytest,  normalize = 'pred')\n",
        "sns.set(font_scale=0.75)\n",
        "plt.savefig(\"LR.jpeg\")\n",
        "filename = 'weights/LR.sav'\n",
        "pickle.dump(sgd, open(filename, 'wb'))\n",
        "plt.show()"
      ],
      "execution_count": 94,
      "outputs": [
        {
          "output_type": "display_data",
          "data": {
            "image/png": "[encoded data removed]",
            "text/plain": [
              "<Figure size 432x288 with 2 Axes>"
            ]
          },
          "metadata": {
            "tags": []
          }
        }
      ]
    },
    {
      "cell_type": "code",
      "metadata": {
        "colab": {
          "base_uri": "https://localhost:8080/",
          "height": 280
        },
        "id": "8ZjIWEOpvcGw",
        "outputId": "96a4a07e-db9a-4951-ee75-0c1e07c2e7d2"
      },
      "source": [
        "plot_confusion_matrix(lr, xtest, ytest,  cmap = 'inferno')\n",
        "sns.set(font_scale=0.75)\n",
        "plt.show()"
      ],
      "execution_count": 95,
      "outputs": [
        {
          "output_type": "display_data",
          "data": {
            "image/png": "[encoded data removed]",
            "text/plain": [
              "<Figure size 432x288 with 2 Axes>"
            ]
          },
          "metadata": {
            "tags": []
          }
        }
      ]
    },
    {
      "cell_type": "code",
      "metadata": {
        "colab": {
          "base_uri": "https://localhost:8080/"
        },
        "id": "Iebmt-XQvcGw",
        "outputId": "84ca0e03-9769-4d7d-db82-fa94e32ce633"
      },
      "source": [
        "n = len(x)\n",
        "j = 0\n",
        "x1 = x.to_numpy()\n",
        "y1 = y.to_numpy()\n",
        "for i in range(3):\n",
        "    xtest = x1[j:j+n//3]\n",
        "    ytest = y1[j:j+n//3]\n",
        "    xtrain = np.concatenate( (x1[:j],x1[j+n//3:]))\n",
        "    ytrain = np.concatenate( (y1[:j],y1[j+n//3:]))\n",
        "    lr.fit(xtrain[:1000], ytrain[:1000])\n",
        "    j+=n//3\n",
        "    print(lr.score(xtest, ytest))\n"
      ],
      "execution_count": 96,
      "outputs": [
        {
          "output_type": "stream",
          "text": [
            "/usr/local/lib/python3.6/dist-packages/sklearn/linear_model/_logistic.py:940: ConvergenceWarning: lbfgs failed to converge (status=1):\n",
            "STOP: TOTAL NO. of ITERATIONS REACHED LIMIT.\n",
            "\n",
            "Increase the number of iterations (max_iter) or scale the data as shown in:\n",
            "    https://scikit-learn.org/stable/modules/preprocessing.html\n",
            "Please also refer to the documentation for alternative solver options:\n",
            "    https://scikit-learn.org/stable/modules/linear_model.html#logistic-regression\n",
            "  extra_warning_msg=_LOGISTIC_SOLVER_CONVERGENCE_MSG)\n"
          ],
          "name": "stderr"
        },
        {
          "output_type": "stream",
          "text": [
            "0.7924470204673066\n"
          ],
          "name": "stdout"
        },
        {
          "output_type": "stream",
          "text": [
            "/usr/local/lib/python3.6/dist-packages/sklearn/linear_model/_logistic.py:940: ConvergenceWarning: lbfgs failed to converge (status=1):\n",
            "STOP: TOTAL NO. of ITERATIONS REACHED LIMIT.\n",
            "\n",
            "Increase the number of iterations (max_iter) or scale the data as shown in:\n",
            "    https://scikit-learn.org/stable/modules/preprocessing.html\n",
            "Please also refer to the documentation for alternative solver options:\n",
            "    https://scikit-learn.org/stable/modules/linear_model.html#logistic-regression\n",
            "  extra_warning_msg=_LOGISTIC_SOLVER_CONVERGENCE_MSG)\n"
          ],
          "name": "stderr"
        },
        {
          "output_type": "stream",
          "text": [
            "0.788788262995834\n",
            "0.7907263176960696\n"
          ],
          "name": "stdout"
        },
        {
          "output_type": "stream",
          "text": [
            "/usr/local/lib/python3.6/dist-packages/sklearn/linear_model/_logistic.py:940: ConvergenceWarning: lbfgs failed to converge (status=1):\n",
            "STOP: TOTAL NO. of ITERATIONS REACHED LIMIT.\n",
            "\n",
            "Increase the number of iterations (max_iter) or scale the data as shown in:\n",
            "    https://scikit-learn.org/stable/modules/preprocessing.html\n",
            "Please also refer to the documentation for alternative solver options:\n",
            "    https://scikit-learn.org/stable/modules/linear_model.html#logistic-regression\n",
            "  extra_warning_msg=_LOGISTIC_SOLVER_CONVERGENCE_MSG)\n"
          ],
          "name": "stderr"
        }
      ]
    },
    {
      "cell_type": "code",
      "metadata": {
        "colab": {
          "base_uri": "https://localhost:8080/"
        },
        "id": "bX53n--NvcGw",
        "outputId": "4480f5be-d4ec-452a-adfd-e94e3e7c0487"
      },
      "source": [
        "from sklearn.svm import SVC\n",
        "svm = SVC(kernel = 'rbf')\n",
        "svm.fit(xtrain[:20000], ytrain[:20000])"
      ],
      "execution_count": 97,
      "outputs": [
        {
          "output_type": "execute_result",
          "data": {
            "text/plain": [
              "SVC(C=1.0, break_ties=False, cache_size=200, class_weight=None, coef0=0.0,\n",
              "    decision_function_shape='ovr', degree=3, gamma='scale', kernel='rbf',\n",
              "    max_iter=-1, probability=False, random_state=None, shrinking=True,\n",
              "    tol=0.001, verbose=False)"
            ]
          },
          "metadata": {
            "tags": []
          },
          "execution_count": 97
        }
      ]
    },
    {
      "cell_type": "code",
      "metadata": {
        "colab": {
          "base_uri": "https://localhost:8080/"
        },
        "id": "ZfqWsSLNvcGx",
        "outputId": "33b275cb-9fca-4bb7-c872-f92c4f584c19"
      },
      "source": [
        "svm.score(xtest, ytest)"
      ],
      "execution_count": 98,
      "outputs": [
        {
          "output_type": "execute_result",
          "data": {
            "text/plain": [
              "0.8881543198695888"
            ]
          },
          "metadata": {
            "tags": []
          },
          "execution_count": 98
        }
      ]
    },
    {
      "cell_type": "code",
      "metadata": {
        "colab": {
          "base_uri": "https://localhost:8080/"
        },
        "id": "yNoQ1U9IvcGx",
        "outputId": "5da75f80-7e5e-4d9a-871f-cb22bcad6688"
      },
      "source": [
        "svm.score(xtrain, ytrain)"
      ],
      "execution_count": 101,
      "outputs": [
        {
          "output_type": "execute_result",
          "data": {
            "text/plain": [
              "0.8871420550252667"
            ]
          },
          "metadata": {
            "tags": []
          },
          "execution_count": 101
        }
      ]
    },
    {
      "cell_type": "code",
      "metadata": {
        "colab": {
          "base_uri": "https://localhost:8080/",
          "height": 280
        },
        "id": "4tEIRX_0vcGx",
        "outputId": "cad59efb-4fa7-4106-c31b-33b2c71fd5f2"
      },
      "source": [
        "plot_confusion_matrix(svm, xtest, ytest,  normalize = 'pred')\n",
        "sns.set(font_scale=0.75)\n",
        "plt.savefig(\"SVM.jpeg\")\n",
        "filename = 'weights/SVM.sav'\n",
        "pickle.dump(sgd, open(filename, 'wb'))\n",
        "plt.show()"
      ],
      "execution_count": 102,
      "outputs": [
        {
          "output_type": "display_data",
          "data": {
            "image/png": "[encoded data removed]",
            "text/plain": [
              "<Figure size 432x288 with 2 Axes>"
            ]
          },
          "metadata": {
            "tags": []
          }
        }
      ]
    },
    {
      "cell_type": "code",
      "metadata": {
        "colab": {
          "base_uri": "https://localhost:8080/",
          "height": 280
        },
        "id": "P7wuIxc5vcGy",
        "outputId": "6d043bd0-fbf0-4937-c9da-aaaf9f2d3e23"
      },
      "source": [
        "ypred = svm.predict(xtest)\n",
        "plot_confusion_matrix(svm, xtest, ytest,  cmap = 'inferno')\n",
        "sns.set(font_scale=0.75)\n",
        "plt.show()"
      ],
      "execution_count": 103,
      "outputs": [
        {
          "output_type": "display_data",
          "data": {
            "image/png": "[encoded data removed]",
            "text/plain": [
              "<Figure size 432x288 with 2 Axes>"
            ]
          },
          "metadata": {
            "tags": []
          }
        }
      ]
    },
    {
      "cell_type": "code",
      "metadata": {
        "colab": {
          "base_uri": "https://localhost:8080/"
        },
        "id": "5gslFD_9vcGy",
        "outputId": "bc23a702-ad99-43e2-f687-87e7b108eba0"
      },
      "source": [
        "n = len(x)\n",
        "j = 0\n",
        "x1 = x\n",
        "y1 =  y\n",
        "x1 = x.to_numpy()\n",
        "y1 = y.to_numpy()\n",
        "for i in range(3):\n",
        "    xtest = x1[j:j+n//3]\n",
        "    ytest = y1[j:j+n//3]\n",
        "    xtrain = np.concatenate( (x1[:j],x1[j+n//3:]))\n",
        "    ytrain = np.concatenate( (y1[:j],y1[j+n//3:]))\n",
        "    svm.fit(xtrain[:1000], ytrain[:1000])\n",
        "    print(svm.score(xtest, ytest))\n",
        "    j+=n//3"
      ],
      "execution_count": null,
      "outputs": [
        {
          "output_type": "stream",
          "text": [
            "0.7749501901829379\n",
            "0.7686288715812353\n",
            "0.7688281108494838\n"
          ],
          "name": "stdout"
        }
      ]
    },
    {
      "cell_type": "code",
      "metadata": {
        "id": "oszswpIKvcGy"
      },
      "source": [
        "from sklearn.ensemble import RandomForestClassifier\n",
        "rf = RandomForestClassifier(max_depth = 16)\n"
      ],
      "execution_count": 104,
      "outputs": []
    },
    {
      "cell_type": "code",
      "metadata": {
        "colab": {
          "base_uri": "https://localhost:8080/"
        },
        "id": "HZTj-4ImvcGz",
        "outputId": "31a25992-8ab7-4174-8b96-45238fe770c5"
      },
      "source": [
        "rf.fit(xtrain, ytrain)"
      ],
      "execution_count": 105,
      "outputs": [
        {
          "output_type": "execute_result",
          "data": {
            "text/plain": [
              "RandomForestClassifier(bootstrap=True, ccp_alpha=0.0, class_weight=None,\n",
              "                       criterion='gini', max_depth=16, max_features='auto',\n",
              "                       max_leaf_nodes=None, max_samples=None,\n",
              "                       min_impurity_decrease=0.0, min_impurity_split=None,\n",
              "                       min_samples_leaf=1, min_samples_split=2,\n",
              "                       min_weight_fraction_leaf=0.0, n_estimators=100,\n",
              "                       n_jobs=None, oob_score=False, random_state=None,\n",
              "                       verbose=0, warm_start=False)"
            ]
          },
          "metadata": {
            "tags": []
          },
          "execution_count": 105
        }
      ]
    },
    {
      "cell_type": "code",
      "metadata": {
        "colab": {
          "base_uri": "https://localhost:8080/"
        },
        "id": "mp1MKeFQvcGz",
        "outputId": "8ae3a014-ab56-4e5d-a500-20ca8199ae47"
      },
      "source": [
        "rf.score(xtest, ytest)"
      ],
      "execution_count": 106,
      "outputs": [
        {
          "output_type": "execute_result",
          "data": {
            "text/plain": [
              "0.9910523455895671"
            ]
          },
          "metadata": {
            "tags": []
          },
          "execution_count": 106
        }
      ]
    },
    {
      "cell_type": "code",
      "metadata": {
        "colab": {
          "base_uri": "https://localhost:8080/"
        },
        "id": "oMWbRr2fvcGz",
        "outputId": "532caf44-9c89-45c0-c54d-7a67143338a6"
      },
      "source": [
        "rf.score(xtrain ,ytrain)"
      ],
      "execution_count": 107,
      "outputs": [
        {
          "output_type": "execute_result",
          "data": {
            "text/plain": [
              "0.9956892648204162"
            ]
          },
          "metadata": {
            "tags": []
          },
          "execution_count": 107
        }
      ]
    },
    {
      "cell_type": "code",
      "metadata": {
        "colab": {
          "base_uri": "https://localhost:8080/",
          "height": 280
        },
        "id": "_sS4PaEPvcGz",
        "outputId": "cadf0fcc-e4fe-484f-f95d-cdaec9c3bbeb"
      },
      "source": [
        "from sklearn.metrics import plot_confusion_matrix\n",
        "plot_confusion_matrix(rf, xtest, ytest,  cmap = 'inferno')\n",
        "sns.set(font_scale=0.75)\n",
        "plt.savefig(\"RF.jpeg\")\n",
        "filename = 'weights/RF.sav'\n",
        "pickle.dump(sgd, open(filename, 'wb'))\n",
        "plt.show()"
      ],
      "execution_count": 108,
      "outputs": [
        {
          "output_type": "display_data",
          "data": {
            "image/png": "[encoded data removed]",
            "text/plain": [
              "<Figure size 432x288 with 2 Axes>"
            ]
          },
          "metadata": {
            "tags": []
          }
        }
      ]
    },
    {
      "cell_type": "code",
      "metadata": {
        "colab": {
          "base_uri": "https://localhost:8080/",
          "height": 280
        },
        "id": "j3zUB_nmvcG0",
        "outputId": "10d560ed-d08f-4081-ba1e-c77fa9e153ea"
      },
      "source": [
        "plot_confusion_matrix(rf, xtest, ytest,  normalize = 'pred')\n",
        "sns.set(font_scale=0.75)\n",
        "plt.show()"
      ],
      "execution_count": null,
      "outputs": [
        {
          "output_type": "display_data",
          "data": {
            "image/png": "[encoded data removed]",
            "text/plain": [
              "<Figure size 432x288 with 2 Axes>"
            ]
          },
          "metadata": {
            "tags": []
          }
        }
      ]
    },
    {
      "cell_type": "code",
      "metadata": {
        "colab": {
          "base_uri": "https://localhost:8080/"
        },
        "id": "rRD_9gJUvcG0",
        "outputId": "b0bbbef8-87c6-47c1-cc1a-12bc34c23e8b"
      },
      "source": [
        "n = len(x)\n",
        "j = 0\n",
        "x1 = x\n",
        "y1 =  y\n",
        "x1 = x.to_numpy()\n",
        "y1 = y.to_numpy()\n",
        "for i in range(3):\n",
        "    xtest = x1[j:j+n//3]\n",
        "    ytest = y1[j:j+n//3]\n",
        "    xtrain = np.concatenate( (x1[:j],x1[j+n//3:]))\n",
        "    ytrain = np.concatenate( (y1[:j],y1[j+n//3:]))\n",
        "    rf = RandomForestClassifier()\n",
        "    rf.fit(xtrain, ytrain)\n",
        "    print(rf.score(xtest, ytest))\n",
        "    del(rf)\n",
        "    j+=n//3"
      ],
      "execution_count": null,
      "outputs": [
        {
          "output_type": "stream",
          "text": [
            "0.9947292157217895\n",
            "0.9945118637927911\n",
            "0.9943126245245426\n"
          ],
          "name": "stdout"
        }
      ]
    },
    {
      "cell_type": "code",
      "metadata": {
        "id": "ErlcT_kviXfk"
      },
      "source": [
        ""
      ],
      "execution_count": null,
      "outputs": []
    },
    {
      "cell_type": "code",
      "metadata": {
        "colab": {
          "base_uri": "https://localhost:8080/"
        },
        "id": "IVvn2JvNx8aM",
        "outputId": "4f8f33a8-baa2-4314-a13d-86bd8a7b3b86"
      },
      "source": [
        "arr = [36, 120]\n",
        "# for i in arr:\n",
        "from sklearn.neural_network import MLPClassifier\n",
        "nn = MLPClassifier(hidden_layer_sizes=(36, 24), alpha= 0.0001)\n",
        "nn.fit(xtrain, ytrain)\n",
        "print(nn.score(xtest, ytest))"
      ],
      "execution_count": 82,
      "outputs": [
        {
          "output_type": "stream",
          "text": [
            "0.9838253939503713\n"
          ],
          "name": "stdout"
        }
      ]
    },
    {
      "cell_type": "code",
      "metadata": {
        "colab": {
          "base_uri": "https://localhost:8080/"
        },
        "id": "Oo0K2knDbENm",
        "outputId": "c345d439-c8ee-4aa2-a7d5-004cd7614925"
      },
      "source": [
        "nn.score(xtest, ytest)"
      ],
      "execution_count": 83,
      "outputs": [
        {
          "output_type": "execute_result",
          "data": {
            "text/plain": [
              "0.9838253939503713"
            ]
          },
          "metadata": {
            "tags": []
          },
          "execution_count": 83
        }
      ]
    },
    {
      "cell_type": "code",
      "metadata": {
        "colab": {
          "base_uri": "https://localhost:8080/"
        },
        "id": "fSrB8AZTbXae",
        "outputId": "9788ae6f-b321-4634-bafe-6d141bd873f6"
      },
      "source": [
        "nn.n_layers_"
      ],
      "execution_count": 54,
      "outputs": [
        {
          "output_type": "execute_result",
          "data": {
            "text/plain": [
              "3"
            ]
          },
          "metadata": {
            "tags": []
          },
          "execution_count": 54
        }
      ]
    },
    {
      "cell_type": "code",
      "metadata": {
        "colab": {
          "base_uri": "https://localhost:8080/",
          "height": 280
        },
        "id": "394Z2TjuboJZ",
        "outputId": "19413295-68a4-406c-8ee3-4b3263ba1844"
      },
      "source": [
        "plot_confusion_matrix(nn, xtest, ytest,  normalize = 'pred')\n",
        "sns.set(font_scale=0.75)\n",
        "plt.savefig(\"NN.jpeg\")\n",
        "plt.show()\n",
        "filename = 'weights/NN.sav'\n",
        "pickle.dump(sgd, open(filename, 'wb'))"
      ],
      "execution_count": 109,
      "outputs": [
        {
          "output_type": "display_data",
          "data": {
            "image/png": "[encoded data removed]",
            "text/plain": [
              "<Figure size 432x288 with 2 Axes>"
            ]
          },
          "metadata": {
            "tags": []
          }
        }
      ]
    },
    {
      "cell_type": "code",
      "metadata": {
        "id": "q_gcXPLycqvV"
      },
      "source": [
        ""
      ],
      "execution_count": null,
      "outputs": []
    },
    {
      "cell_type": "code",
      "metadata": {
        "colab": {
          "base_uri": "https://localhost:8080/"
        },
        "id": "8eEc0YEmkVs6",
        "outputId": "1f8d003d-a2f4-4e29-871d-81e1daa7e346"
      },
      "source": [
        "act = ['relu', 'identity','logistic','tanh']\n",
        "alpha = [1, 0.1, 0.05, 0.01]\n",
        "acc = []\n",
        "for a in alpha:\n",
        "  for ac in act:\n",
        "    nn = MLPClassifier(alpha= a, activation= ac)\n",
        "    nn.fit(xtrain, ytrain)\n",
        "    acc.append(nn.score(xtest, ytest))"
      ],
      "execution_count": null,
      "outputs": [
        {
          "output_type": "stream",
          "text": [
            "/usr/local/lib/python3.6/dist-packages/sklearn/neural_network/_multilayer_perceptron.py:571: ConvergenceWarning: Stochastic Optimizer: Maximum iterations (200) reached and the optimization hasn't converged yet.\n",
            "  % self.max_iter, ConvergenceWarning)\n",
            "/usr/local/lib/python3.6/dist-packages/sklearn/neural_network/_multilayer_perceptron.py:571: ConvergenceWarning: Stochastic Optimizer: Maximum iterations (200) reached and the optimization hasn't converged yet.\n",
            "  % self.max_iter, ConvergenceWarning)\n"
          ],
          "name": "stderr"
        }
      ]
    },
    {
      "cell_type": "code",
      "metadata": {
        "colab": {
          "base_uri": "https://localhost:8080/"
        },
        "id": "-XijNluslA_b",
        "outputId": "66d21538-b1c5-43e4-e05d-ce891591162e"
      },
      "source": [
        "print(acc)"
      ],
      "execution_count": null,
      "outputs": [
        {
          "output_type": "stream",
          "text": [
            "[0.9703495743524724, 0.8209020105053433, 0.9695707299402282, 0.9677956891867415, 0.9826842963231298, 0.8097083861619272, 0.9794421300489042, 0.9714725593189639, 0.9712914327114653, 0.8213004890418403, 0.9807462416228944, 0.9737547545734468, 0.985727223329107, 0.8122803839884079, 0.982267705125883, 0.9749139648614381]\n"
          ],
          "name": "stdout"
        }
      ]
    },
    {
      "cell_type": "code",
      "metadata": {
        "colab": {
          "base_uri": "https://localhost:8080/"
        },
        "id": "otqIpcqLzedQ",
        "outputId": "2279c6a3-cd59-43e1-f255-620e51cf731f"
      },
      "source": [
        "nn.score(xtest, ytest)"
      ],
      "execution_count": null,
      "outputs": [
        {
          "output_type": "execute_result",
          "data": {
            "text/plain": [
              "0.9749139648614381"
            ]
          },
          "metadata": {
            "tags": []
          },
          "execution_count": 65
        }
      ]
    },
    {
      "cell_type": "code",
      "metadata": {
        "colab": {
          "base_uri": "https://localhost:8080/",
          "height": 280
        },
        "id": "rnBRmdfJicC1",
        "outputId": "a9c54c40-4996-4552-c8e7-87034f6f4b6b"
      },
      "source": [
        ""
      ],
      "execution_count": null,
      "outputs": [
        {
          "output_type": "display_data",
          "data": {
            "image/png": "[encoded data removed]",
            "text/plain": [
              "<Figure size 432x288 with 2 Axes>"
            ]
          },
          "metadata": {
            "tags": []
          }
        }
      ]
    },
    {
      "cell_type": "code",
      "metadata": {
        "colab": {
          "base_uri": "https://localhost:8080/",
          "height": 298
        },
        "id": "x0whmp5WGrL7",
        "outputId": "21918df5-82a6-497d-d727-0986eb011314"
      },
      "source": [
        "acc1 = []\n",
        "j = 1\n",
        "for i in alpha:\n",
        "  acc1.append(acc[j])\n",
        "  j+=4\n",
        "plt.ylabel(\"Accuracy\")\n",
        "plt.xlabel(\"Learning rate\")\n",
        "plt.plot(alpha, acc1)"
      ],
      "execution_count": null,
      "outputs": [
        {
          "output_type": "execute_result",
          "data": {
            "text/plain": [
              "[<matplotlib.lines.Line2D at 0x7f1c1d480898>]"
            ]
          },
          "metadata": {
            "tags": []
          },
          "execution_count": 75
        },
        {
          "output_type": "display_data",
          "data": {
            "image/png": "[encoded data removed]",
            "text/plain": [
              "<Figure size 432x288 with 1 Axes>"
            ]
          },
          "metadata": {
            "tags": []
          }
        }
      ]
    },
    {
      "cell_type": "code",
      "metadata": {
        "colab": {
          "base_uri": "https://localhost:8080/"
        },
        "id": "tLmXDPN8099s",
        "outputId": "c1502575-c20f-4cb9-decb-8d592f4eb098"
      },
      "source": [
        "from sklearn.cluster import KMeans\n",
        "kmeans = KMeans(n_clusters=5)\n",
        "kmeans.fit(xtrain, ytrain)"
      ],
      "execution_count": null,
      "outputs": [
        {
          "output_type": "execute_result",
          "data": {
            "text/plain": [
              "KMeans(algorithm='auto', copy_x=True, init='k-means++', max_iter=300,\n",
              "       n_clusters=5, n_init=10, n_jobs=None, precompute_distances='auto',\n",
              "       random_state=None, tol=0.0001, verbose=0)"
            ]
          },
          "metadata": {
            "tags": []
          },
          "execution_count": 68
        }
      ]
    },
    {
      "cell_type": "code",
      "metadata": {
        "colab": {
          "base_uri": "https://localhost:8080/"
        },
        "id": "ICMykBPa3HE2",
        "outputId": "e439b4f0-6326-41a1-969c-1fcceb20ea31"
      },
      "source": [
        "kmeans.score(xtest, ytest)"
      ],
      "execution_count": null,
      "outputs": [
        {
          "output_type": "execute_result",
          "data": {
            "text/plain": [
              "-509296424.701004"
            ]
          },
          "metadata": {
            "tags": []
          },
          "execution_count": 69
        }
      ]
    },
    {
      "cell_type": "code",
      "metadata": {
        "id": "XfZNme2q3LHF"
      },
      "source": [
        ""
      ],
      "execution_count": 109,
      "outputs": []
    },
    {
      "cell_type": "code",
      "metadata": {
        "id": "Ku3UJ5_UYea7"
      },
      "source": [
        ""
      ],
      "execution_count": null,
      "outputs": []
    }
  ]
}